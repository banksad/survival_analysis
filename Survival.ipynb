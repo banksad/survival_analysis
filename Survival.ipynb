{
 "cells": [
  {
   "cell_type": "markdown",
   "metadata": {},
   "source": [
    "# Survival Analysis"
   ]
  },
  {
   "cell_type": "markdown",
   "metadata": {},
   "source": [
    "If we define the time for a randomly chosen unemployed person to become employed as\n",
    "\n",
    "$$ T\\ge0 $$\n",
    "\n",
    "Then the **Survival Function** $S(t)$ is the probability that at any given time $t$ the person remains unemployed. You could also rephrase this to say that the survival function is the probability that $t$ has not yet exceeded the employment date $T$\n",
    "\n",
    "$$ S(t) = P ( T > t) $$\n",
    "\n",
    "The **Hazard function** $\\lambda(t)$ is the probability that the person will become employed at a particular time $t$, (or that $T$ is some minute difference away from $t$\n",
    "\n",
    "$$ \\lambda(t) = \\lim_{h \\to 0} \\frac{P( t \\leq T < t+h | T \\geq t)}{h} $$"
   ]
  },
  {
   "cell_type": "markdown",
   "metadata": {},
   "source": [
    "## Preparing data"
   ]
  },
  {
   "cell_type": "markdown",
   "metadata": {},
   "source": [
    "We import the lifelines and pandas packages, and read in an example dataset.\n",
    "\n",
    "This example has 177 samples, with the following variables:\n",
    "\n",
    "* week refers to the number of weeks a person looked for work before. For the purposes of this test dataset, if a person exceeds 52 weeks of unemployment, they are assumed to remain unemployed forever.\n",
    "\n",
    "* employed is an indicator of whether they become employed again (1) or not (0)\n",
    "\n",
    "* wexp is the amount of work experience they had gained up to being unemployed"
   ]
  },
  {
   "cell_type": "code",
   "execution_count": 17,
   "metadata": {},
   "outputs": [
    {
     "data": {
      "text/html": [
       "<div>\n",
       "<style scoped>\n",
       "    .dataframe tbody tr th:only-of-type {\n",
       "        vertical-align: middle;\n",
       "    }\n",
       "\n",
       "    .dataframe tbody tr th {\n",
       "        vertical-align: top;\n",
       "    }\n",
       "\n",
       "    .dataframe thead th {\n",
       "        text-align: right;\n",
       "    }\n",
       "</style>\n",
       "<table border=\"1\" class=\"dataframe\">\n",
       "  <thead>\n",
       "    <tr style=\"text-align: right;\">\n",
       "      <th></th>\n",
       "      <th>week</th>\n",
       "      <th>employed</th>\n",
       "      <th>age</th>\n",
       "      <th>gender</th>\n",
       "      <th>wexp</th>\n",
       "    </tr>\n",
       "  </thead>\n",
       "  <tbody>\n",
       "    <tr>\n",
       "      <th>0</th>\n",
       "      <td>20</td>\n",
       "      <td>1</td>\n",
       "      <td>27</td>\n",
       "      <td>Male</td>\n",
       "      <td>324</td>\n",
       "    </tr>\n",
       "    <tr>\n",
       "      <th>1</th>\n",
       "      <td>17</td>\n",
       "      <td>1</td>\n",
       "      <td>18</td>\n",
       "      <td>Male</td>\n",
       "      <td>162</td>\n",
       "    </tr>\n",
       "    <tr>\n",
       "      <th>2</th>\n",
       "      <td>25</td>\n",
       "      <td>1</td>\n",
       "      <td>19</td>\n",
       "      <td>Female</td>\n",
       "      <td>228</td>\n",
       "    </tr>\n",
       "    <tr>\n",
       "      <th>3</th>\n",
       "      <td>23</td>\n",
       "      <td>1</td>\n",
       "      <td>25</td>\n",
       "      <td>Male</td>\n",
       "      <td>500</td>\n",
       "    </tr>\n",
       "    <tr>\n",
       "      <th>4</th>\n",
       "      <td>37</td>\n",
       "      <td>1</td>\n",
       "      <td>17</td>\n",
       "      <td>Male</td>\n",
       "      <td>102</td>\n",
       "    </tr>\n",
       "    <tr>\n",
       "      <th>...</th>\n",
       "      <td>...</td>\n",
       "      <td>...</td>\n",
       "      <td>...</td>\n",
       "      <td>...</td>\n",
       "      <td>...</td>\n",
       "    </tr>\n",
       "    <tr>\n",
       "      <th>172</th>\n",
       "      <td>52</td>\n",
       "      <td>0</td>\n",
       "      <td>31</td>\n",
       "      <td>Female</td>\n",
       "      <td>1488</td>\n",
       "    </tr>\n",
       "    <tr>\n",
       "      <th>173</th>\n",
       "      <td>52</td>\n",
       "      <td>0</td>\n",
       "      <td>20</td>\n",
       "      <td>Male</td>\n",
       "      <td>100</td>\n",
       "    </tr>\n",
       "    <tr>\n",
       "      <th>174</th>\n",
       "      <td>52</td>\n",
       "      <td>0</td>\n",
       "      <td>20</td>\n",
       "      <td>Male</td>\n",
       "      <td>300</td>\n",
       "    </tr>\n",
       "    <tr>\n",
       "      <th>175</th>\n",
       "      <td>52</td>\n",
       "      <td>0</td>\n",
       "      <td>29</td>\n",
       "      <td>Male</td>\n",
       "      <td>406</td>\n",
       "    </tr>\n",
       "    <tr>\n",
       "      <th>176</th>\n",
       "      <td>52</td>\n",
       "      <td>0</td>\n",
       "      <td>24</td>\n",
       "      <td>Male</td>\n",
       "      <td>216</td>\n",
       "    </tr>\n",
       "  </tbody>\n",
       "</table>\n",
       "<p>177 rows × 5 columns</p>\n",
       "</div>"
      ],
      "text/plain": [
       "     week  employed  age  gender  wexp\n",
       "0      20         1   27    Male   324\n",
       "1      17         1   18    Male   162\n",
       "2      25         1   19  Female   228\n",
       "3      23         1   25    Male   500\n",
       "4      37         1   17    Male   102\n",
       "..    ...       ...  ...     ...   ...\n",
       "172    52         0   31  Female  1488\n",
       "173    52         0   20    Male   100\n",
       "174    52         0   20    Male   300\n",
       "175    52         0   29    Male   406\n",
       "176    52         0   24    Male   216\n",
       "\n",
       "[177 rows x 5 columns]"
      ]
     },
     "execution_count": 17,
     "metadata": {},
     "output_type": "execute_result"
    }
   ],
   "source": [
    "import lifelines\n",
    "import pandas as pd\n",
    "\n",
    "data = pd.read_csv('example.csv')\n",
    "data"
   ]
  },
  {
   "cell_type": "markdown",
   "metadata": {},
   "source": [
    "## Estimating the Survival Function\n",
    "\n",
    "We can estimate the Survival Function for re-employment using the Kaplan-Meier Estimate\n",
    "\n",
    "$$ \\hat{S}(t) = \\prod_{t_{i}<t} ( 1 - \\frac{d_{i}}{n_{i}} ) $$\n",
    "\n",
    "where $d_{i}$ is the number of people employed at time $t$, and $n_{i}$ is the number of people that still have a chance of employment at the point just before time $t$. The estimator is a series of declining horizontal steps which, with a large enough sample size, approaches the true survival function for that population."
   ]
  },
  {
   "cell_type": "code",
   "execution_count": 22,
   "metadata": {},
   "outputs": [
    {
     "data": {
      "image/png": "[encoded data removed]",
      "text/plain": [
       "<Figure size 432x288 with 1 Axes>"
      ]
     },
     "metadata": {
      "needs_background": "light"
     },
     "output_type": "display_data"
    }
   ],
   "source": [
    "from lifelines import KaplanMeierFitter\n",
    "kmf = KaplanMeierFitter()\n",
    "\n",
    "T = data[\"week\"]\n",
    "E = data[\"employed\"]\n",
    "\n",
    "kmf.fit(T, event_observed=E)\n",
    "\n",
    "from matplotlib import pyplot as plt\n",
    "\n",
    "kmf.plot()\n",
    "plt.title('Survival function of unemployment outcomes');\n",
    "plt.ylabel('probability a person is still looking for work');\n",
    "plt.xlabel('weeks of unemployment');"
   ]
  },
  {
   "cell_type": "markdown",
   "metadata": {},
   "source": [
    "The y-axis represents the probability a person is still unemployed after $t$ weeks, where $t$ weeks is on the x-axis. Light blue areas represent confidence intervals.\n",
    "\n",
    "The median time in unemployment, which defines the point in time where on average 50% of the sampled population has become employed, can be read from the chart or calculated:"
   ]
  },
  {
   "cell_type": "code",
   "execution_count": 23,
   "metadata": {},
   "outputs": [
    {
     "data": {
      "text/plain": [
       "43.0"
      ]
     },
     "execution_count": 23,
     "metadata": {},
     "output_type": "execute_result"
    }
   ],
   "source": [
    "kmf.median_survival_time_"
   ]
  },
  {
   "cell_type": "markdown",
   "metadata": {},
   "source": [
    "Let’s segment on gender. Calling plot on either the estimate itself or the fitter object will return an axis object, that can be used for plotting further estimates:"
   ]
  },
  {
   "cell_type": "code",
   "execution_count": 25,
   "metadata": {},
   "outputs": [
    {
     "data": {
      "image/png": "[encoded data removed]",
      "text/plain": [
       "<Figure size 432x288 with 1 Axes>"
      ]
     },
     "metadata": {
      "needs_background": "light"
     },
     "output_type": "display_data"
    }
   ],
   "source": [
    "ax = plt.subplot(111)\n",
    "\n",
    "gen = (data[\"gender\"] == \"Male\")\n",
    "\n",
    "kmf.fit(T[gen], event_observed=E[gen], label=\"Male\")\n",
    "kmf.plot(ax=ax)\n",
    "\n",
    "kmf.fit(T[~gen], event_observed=E[~gen], label=\"Female\")\n",
    "kmf.plot(ax=ax)\n",
    "\n",
    "plt.title(\"Unemployment durations by gender\");\n",
    "plt.ylabel('probability a person is still looking for work');\n",
    "plt.xlabel('weeks of unemployment');"
   ]
  },
  {
   "cell_type": "markdown",
   "metadata": {},
   "source": [
    "The two curves have overlapping confidence intervals so are unlikely to be significantly different. You can test whether they are different below"
   ]
  },
  {
   "cell_type": "code",
   "execution_count": 26,
   "metadata": {},
   "outputs": [
    {
     "data": {
      "text/html": [
       "<div>\n",
       "<style scoped>\n",
       "    .dataframe tbody tr th:only-of-type {\n",
       "        vertical-align: middle;\n",
       "    }\n",
       "\n",
       "    .dataframe tbody tr th {\n",
       "        vertical-align: top;\n",
       "    }\n",
       "\n",
       "    .dataframe thead th {\n",
       "        text-align: right;\n",
       "    }\n",
       "</style>\n",
       "<table border=\"1\" class=\"dataframe\">\n",
       "  <tbody>\n",
       "    <tr>\n",
       "      <th>t_0</th>\n",
       "      <td>-1</td>\n",
       "    </tr>\n",
       "    <tr>\n",
       "      <th>null_distribution</th>\n",
       "      <td>chi squared</td>\n",
       "    </tr>\n",
       "    <tr>\n",
       "      <th>degrees_of_freedom</th>\n",
       "      <td>1</td>\n",
       "    </tr>\n",
       "    <tr>\n",
       "      <th>alpha</th>\n",
       "      <td>0.99</td>\n",
       "    </tr>\n",
       "    <tr>\n",
       "      <th>test_name</th>\n",
       "      <td>logrank_test</td>\n",
       "    </tr>\n",
       "  </tbody>\n",
       "</table>\n",
       "</div><table border=\"1\" class=\"dataframe\">\n",
       "  <thead>\n",
       "    <tr style=\"text-align: right;\">\n",
       "      <th></th>\n",
       "      <th>test_statistic</th>\n",
       "      <th>p</th>\n",
       "      <th>-log2(p)</th>\n",
       "    </tr>\n",
       "  </thead>\n",
       "  <tbody>\n",
       "    <tr>\n",
       "      <th>0</th>\n",
       "      <td>0.25</td>\n",
       "      <td>0.62</td>\n",
       "      <td>0.69</td>\n",
       "    </tr>\n",
       "  </tbody>\n",
       "</table>"
      ],
      "text/latex": [
       "\\begin{tabular}{lrrr}\n",
       "\\toprule\n",
       "{} &  test\\_statistic &         p &  -log2(p) \\\\\n",
       "\\midrule\n",
       "0 &        0.245072 &  0.620566 &  0.688342 \\\\\n",
       "\\bottomrule\n",
       "\\end{tabular}\n"
      ],
      "text/plain": [
       "<lifelines.StatisticalResult: logrank_test>\n",
       "               t_0 = -1\n",
       " null_distribution = chi squared\n",
       "degrees_of_freedom = 1\n",
       "             alpha = 0.99\n",
       "         test_name = logrank_test\n",
       "\n",
       "---\n",
       " test_statistic    p  -log2(p)\n",
       "           0.25 0.62      0.69"
      ]
     },
     "metadata": {},
     "output_type": "display_data"
    }
   ],
   "source": [
    "from lifelines.statistics import logrank_test\n",
    "\n",
    "results = logrank_test(T[gen], T[~gen], E[gen], E[~gen], alpha=.99)\n",
    "\n",
    "results.print_summary()"
   ]
  },
  {
   "cell_type": "markdown",
   "metadata": {},
   "source": [
    "The test statistic shows the two series are not statistically signficantly different.\n",
    "\n",
    "You can also compare by experience level and age (below)"
   ]
  },
  {
   "cell_type": "code",
   "execution_count": 31,
   "metadata": {},
   "outputs": [
    {
     "data": {
      "image/png": "[encoded data removed]",
      "text/plain": [
       "<Figure size 432x288 with 1 Axes>"
      ]
     },
     "metadata": {
      "needs_background": "light"
     },
     "output_type": "display_data"
    }
   ],
   "source": [
    "ax = plt.subplot(111)\n",
    "\n",
    "gen = (data[\"wexp\"] < 308) # the median level of experience\n",
    "\n",
    "kmf.fit(T[gen], event_observed=E[gen], label=\"Inexperienced\")\n",
    "kmf.plot(ax=ax)\n",
    "\n",
    "kmf.fit(T[~gen], event_observed=E[~gen], label=\"Experienced\")\n",
    "kmf.plot(ax=ax)\n",
    "\n",
    "plt.title(\"Unemployment durations by experience\");\n",
    "plt.ylabel('probability a person is still looking for work');\n",
    "plt.xlabel('weeks of unemployment');"
   ]
  },
  {
   "cell_type": "code",
   "execution_count": 38,
   "metadata": {},
   "outputs": [
    {
     "data": {
      "image/png": "[encoded data removed]",
      "text/plain": [
       "<Figure size 432x288 with 1 Axes>"
      ]
     },
     "metadata": {
      "needs_background": "light"
     },
     "output_type": "display_data"
    }
   ],
   "source": [
    "ax = plt.subplot(111)\n",
    "\n",
    "gen = (data[\"age\"] < 22) # the median age\n",
    "\n",
    "kmf.fit(T[gen], event_observed=E[gen], label=\"<22 years\")\n",
    "kmf.plot(ax=ax)\n",
    "\n",
    "kmf.fit(T[~gen], event_observed=E[~gen], label=\"22 or older\")\n",
    "kmf.plot(ax=ax)\n",
    "\n",
    "plt.title(\"Unemployment durations by age\");\n",
    "plt.ylabel('probability a person is still looking for work');\n",
    "plt.xlabel('weeks of unemployment');"
   ]
  },
  {
   "cell_type": "markdown",
   "metadata": {},
   "source": [
    "## Survival Regression\n",
    "\n",
    "We can try to estimate the survival function, based on the explanatory variables we have available to us (age, work experience and gender).\n",
    "\n",
    "A standard model is Cox Proportional Hazards model. The idea behind this is that the log-hazard of an individual is a linear function of their covariates and a population-level baseline hazard that changes over time.\n",
    "\n",
    "This assumes that an explanatory variable has a multiplicative effect on the survival function, and that it's impact is constant over time (a key assumption here).\n",
    "\n",
    "$$ \\underbrace{h(t | x)}_{\\text{hazard}} = \\overbrace{b_0(t)}^{\\text{baseline hazard}} \\underbrace{\\exp \\overbrace{\\left(\\sum_{i=1}^n b_i (x_i - \\overline{x_i})\\right)}^{\\text{log-partial hazard}}}_ {\\text{partial hazard}} $$\n",
    "\n",
    "where $h(t | x)$ is the hazard rate we are estimating, $b_{0}(t)$ is a baseline time dependent hazard, and $x_{i}$ are the covariates (explanatory variables).\n",
    "\n",
    "Age seems to be a factor here so we could try this as an explanatory variable in the model.\n"
   ]
  },
  {
   "cell_type": "code",
   "execution_count": 43,
   "metadata": {},
   "outputs": [
    {
     "data": {
      "text/html": [
       "<div>\n",
       "<style scoped>\n",
       "    .dataframe tbody tr th:only-of-type {\n",
       "        vertical-align: middle;\n",
       "    }\n",
       "\n",
       "    .dataframe tbody tr th {\n",
       "        vertical-align: top;\n",
       "    }\n",
       "\n",
       "    .dataframe thead th {\n",
       "        text-align: right;\n",
       "    }\n",
       "</style>\n",
       "<table border=\"1\" class=\"dataframe\">\n",
       "  <tbody>\n",
       "    <tr>\n",
       "      <th>model</th>\n",
       "      <td>lifelines.CoxPHFitter</td>\n",
       "    </tr>\n",
       "    <tr>\n",
       "      <th>duration col</th>\n",
       "      <td>'week'</td>\n",
       "    </tr>\n",
       "    <tr>\n",
       "      <th>event col</th>\n",
       "      <td>'employed'</td>\n",
       "    </tr>\n",
       "    <tr>\n",
       "      <th>baseline estimation</th>\n",
       "      <td>breslow</td>\n",
       "    </tr>\n",
       "    <tr>\n",
       "      <th>number of observations</th>\n",
       "      <td>177</td>\n",
       "    </tr>\n",
       "    <tr>\n",
       "      <th>number of events observed</th>\n",
       "      <td>114</td>\n",
       "    </tr>\n",
       "    <tr>\n",
       "      <th>partial log-likelihood</th>\n",
       "      <td>-537.37</td>\n",
       "    </tr>\n",
       "    <tr>\n",
       "      <th>time fit was run</th>\n",
       "      <td>2020-11-04 23:46:50 UTC</td>\n",
       "    </tr>\n",
       "  </tbody>\n",
       "</table>\n",
       "</div><table border=\"1\" class=\"dataframe\">\n",
       "  <thead>\n",
       "    <tr style=\"text-align: right;\">\n",
       "      <th style=\"min-width: 12px;\"></th>\n",
       "      <th style=\"min-width: 12px;\">coef</th>\n",
       "      <th style=\"min-width: 12px;\">exp(coef)</th>\n",
       "      <th style=\"min-width: 12px;\">se(coef)</th>\n",
       "      <th style=\"min-width: 12px;\">coef lower 95%</th>\n",
       "      <th style=\"min-width: 12px;\">coef upper 95%</th>\n",
       "      <th style=\"min-width: 12px;\">exp(coef) lower 95%</th>\n",
       "      <th style=\"min-width: 12px;\">exp(coef) upper 95%</th>\n",
       "      <th style=\"min-width: 12px;\">z</th>\n",
       "      <th style=\"min-width: 12px;\">p</th>\n",
       "      <th style=\"min-width: 12px;\">-log2(p)</th>\n",
       "    </tr>\n",
       "  </thead>\n",
       "  <tbody>\n",
       "    <tr>\n",
       "      <th>age</th>\n",
       "      <td>-0.06</td>\n",
       "      <td>0.95</td>\n",
       "      <td>0.02</td>\n",
       "      <td>-0.10</td>\n",
       "      <td>-0.02</td>\n",
       "      <td>0.91</td>\n",
       "      <td>0.98</td>\n",
       "      <td>-2.72</td>\n",
       "      <td>0.01</td>\n",
       "      <td>7.24</td>\n",
       "    </tr>\n",
       "  </tbody>\n",
       "</table><br><div>\n",
       "<style scoped>\n",
       "    .dataframe tbody tr th:only-of-type {\n",
       "        vertical-align: middle;\n",
       "    }\n",
       "\n",
       "    .dataframe tbody tr th {\n",
       "        vertical-align: top;\n",
       "    }\n",
       "\n",
       "    .dataframe thead th {\n",
       "        text-align: right;\n",
       "    }\n",
       "</style>\n",
       "<table border=\"1\" class=\"dataframe\">\n",
       "  <tbody>\n",
       "    <tr>\n",
       "      <th>Concordance</th>\n",
       "      <td>0.58</td>\n",
       "    </tr>\n",
       "    <tr>\n",
       "      <th>Partial AIC</th>\n",
       "      <td>1076.73</td>\n",
       "    </tr>\n",
       "    <tr>\n",
       "      <th>log-likelihood ratio test</th>\n",
       "      <td>8.62 on 1 df</td>\n",
       "    </tr>\n",
       "    <tr>\n",
       "      <th>-log2(p) of ll-ratio test</th>\n",
       "      <td>8.23</td>\n",
       "    </tr>\n",
       "  </tbody>\n",
       "</table>\n",
       "</div>"
      ],
      "text/latex": [
       "\\begin{tabular}{lrrrrrrrrrr}\n",
       "\\toprule\n",
       "{} &  coef &  exp(coef) &  se(coef) &  coef lower 95\\% &  coef upper 95\\% &  exp(coef) lower 95\\% &  exp(coef) upper 95\\% &     z &    p &  -log2(p) \\\\\n",
       "covariate &       &            &           &                 &                 &                      &                      &       &      &           \\\\\n",
       "\\midrule\n",
       "age       & -0.06 &       0.95 &      0.02 &           -0.10 &           -0.02 &                 0.91 &                 0.98 & -2.72 & 0.01 &      7.24 \\\\\n",
       "\\bottomrule\n",
       "\\end{tabular}\n"
      ],
      "text/plain": [
       "<lifelines.CoxPHFitter: fitted with 177 total observations, 63 right-censored observations>\n",
       "             duration col = 'week'\n",
       "                event col = 'employed'\n",
       "      baseline estimation = breslow\n",
       "   number of observations = 177\n",
       "number of events observed = 114\n",
       "   partial log-likelihood = -537.37\n",
       "         time fit was run = 2020-11-04 23:46:50 UTC\n",
       "\n",
       "---\n",
       "            coef  exp(coef)   se(coef)   coef lower 95%   coef upper 95%  exp(coef) lower 95%  exp(coef) upper 95%\n",
       "covariate                                                                                                         \n",
       "age        -0.06       0.95       0.02            -0.10            -0.02                 0.91                 0.98\n",
       "\n",
       "              z    p   -log2(p)\n",
       "covariate                      \n",
       "age       -2.72 0.01       7.24\n",
       "---\n",
       "Concordance = 0.58\n",
       "Partial AIC = 1076.73\n",
       "log-likelihood ratio test = 8.62 on 1 df\n",
       "-log2(p) of ll-ratio test = 8.23"
      ]
     },
     "metadata": {},
     "output_type": "display_data"
    }
   ],
   "source": [
    "from lifelines import CoxPHFitter\n",
    "\n",
    "cph = CoxPHFitter()\n",
    "\n",
    "cph.fit(data,\n",
    "        duration_col='week',\n",
    "        event_col='employed',\n",
    "        formula=\"age\")\n",
    "\n",
    "cph.print_summary()"
   ]
  },
  {
   "cell_type": "markdown",
   "metadata": {},
   "source": [
    "The coefficient interpretation here is that a one unit increase in age means that the baseline hazard will reduce by 5%. This means that a one unit increase in age results in a lower probability of employment.\n",
    "\n",
    "The confidence intervals suggest we can be fairly assured that age is a potential explanatory factor.\n",
    "\n",
    "After fitting, we can plot what the survival curves look like as we vary a single covariate while holding everything else equal. This is useful to understand the impact of a covariate, given the model. Lets do this with age."
   ]
  },
  {
   "cell_type": "code",
   "execution_count": 46,
   "metadata": {},
   "outputs": [
    {
     "data": {
      "text/plain": [
       "<matplotlib.axes._subplots.AxesSubplot at 0x27883722760>"
      ]
     },
     "execution_count": 46,
     "metadata": {},
     "output_type": "execute_result"
    },
    {
     "data": {
      "image/png": "[encoded data removed]",
      "text/plain": [
       "<Figure size 432x288 with 1 Axes>"
      ]
     },
     "metadata": {
      "needs_background": "light"
     },
     "output_type": "display_data"
    }
   ],
   "source": [
    "cph.fit(data,\n",
    "        duration_col='week',\n",
    "        event_col='employed',\n",
    "        formula=\"age\")\n",
    "\n",
    "cph.plot_partial_effects_on_outcome(covariates='age',\n",
    "                                    values=[17, 20, 22, 26, 44],\n",
    "                                    cmap='coolwarm')"
   ]
  },
  {
   "cell_type": "markdown",
   "metadata": {},
   "source": [
    "It clearly shows that older people have lower probabilities of employment relative to a baseline."
   ]
  },
  {
   "cell_type": "markdown",
   "metadata": {},
   "source": [
    "We can check our predictions against our actual values by looking at a concordance index.\n",
    "\n",
    "This measure evaluates the accuracy of the ranking of predicted times for employment among the samples we have.\n",
    "\n",
    "* 0.5 is the expected result from random predictions,\n",
    "* 1.0 is perfect concordance and,\n",
    "* 0.0 is perfect anti-concordance (multiply predictions with -1 to get 1.0)\n",
    "\n",
    "Fitted survival models typically have a concordance index between 0.55 and 0.75"
   ]
  },
  {
   "cell_type": "code",
   "execution_count": 47,
   "metadata": {},
   "outputs": [
    {
     "name": "stdout",
     "output_type": "stream",
     "text": [
      "0.5756734754292481\n"
     ]
    }
   ],
   "source": [
    "print(cph.concordance_index_)"
   ]
  },
  {
   "cell_type": "markdown",
   "metadata": {},
   "source": [
    "It clearly has very weak explanatory power, but some power nonetheless."
   ]
  }
 ],
 "metadata": {
  "kernelspec": {
   "display_name": "Python 3",
   "language": "python",
   "name": "python3"
  },
  "language_info": {
   "codemirror_mode": {
    "name": "ipython",
    "version": 3
   },
   "file_extension": ".py",
   "mimetype": "text/x-python",
   "name": "python",
   "nbconvert_exporter": "python",
   "pygments_lexer": "ipython3",
   "version": "3.8.3"
  }
 },
 "nbformat": 4,
 "nbformat_minor": 4
}
